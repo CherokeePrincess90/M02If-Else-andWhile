{
 "cells": [
  {
   "cell_type": "code",
   "execution_count": 18,
   "id": "501d22f7",
   "metadata": {},
   "outputs": [
    {
     "name": "stdout",
     "output_type": "stream",
     "text": [
      "Enter Student's Last Name: COWAN\n",
      "Enter Student's First Name: CYNTHIA\n",
      "Enter Student's GPA: 3.9\n",
      "CYNTHIA COWAN has made the Dean's List!\n",
      "\n",
      "Enter Student's Last Name: Cowan\n",
      "Enter Student's First Name: Wesley\n",
      "Enter Student's GPA: 3.6\n",
      "Wesley Cowan has made the Dean's List!\n",
      "\n",
      "Enter Student's Last Name: Bob\n",
      "Enter Student's First Name: Bob\n",
      "Enter Student's GPA: 3.15\n",
      "Student is not on Honor Roll or Dean's List.\n",
      "\n",
      "Enter Student's Last Name: Sam\n",
      "Enter Student's First Name: Same\n",
      "Enter Student's GPA: 3.5\n",
      "Same Sam has made the Dean's List!\n",
      "\n",
      "Enter Student's Last Name: Tina\n",
      "Enter Student's First Name: Tina\n",
      "Enter Student's GPA: 3.25\n",
      "Tina Tina has made the Honor Roll List!\n",
      "\n",
      "Enter Student's Last Name: QUIT\n"
     ]
    }
   ],
   "source": [
    "#SDEV220-51P\n",
    "#M02 If, Else and While \n",
    "#Cynthia Bush\n",
    "#October 31,2022\n",
    "#Description: a program that uses a student's GPA to determine if they will be on the Dean's List or Honor Roll\n",
    "\n",
    "#Enter student's last name\n",
    "lname = input(\"Enter Student's Last Name: \")\n",
    "\n",
    "#While statement \n",
    "while lname != \"QUIT\":\n",
    "    fname = input(\"Enter Student's First Name: \")\n",
    "    gpa = float(input(\"Enter Student's GPA: \"))\n",
    "    \n",
    "    #if else statement to check GPA\n",
    "    if gpa >= 3.5: \n",
    "        print(fname +\" \" + lname + \" \" + \"has made the Dean's List!\")\n",
    "    else:\n",
    "        if gpa >= 3.25:\n",
    "            print(fname +\" \" + lname + \" \" + \"has made the Honor Roll List!\" )\n",
    "        if gpa < 3.25:\n",
    "             print(\"Student is not on Honor Roll or Dean's List.\")\n",
    "                   \n",
    "    lname = input(\"\\nEnter Student's Last Name: \")"
   ]
  },
  {
   "cell_type": "code",
   "execution_count": null,
   "id": "9616c7bb",
   "metadata": {},
   "outputs": [],
   "source": []
  }
 ],
 "metadata": {
  "kernelspec": {
   "display_name": "Python 3 (ipykernel)",
   "language": "python",
   "name": "python3"
  },
  "language_info": {
   "codemirror_mode": {
    "name": "ipython",
    "version": 3
   },
   "file_extension": ".py",
   "mimetype": "text/x-python",
   "name": "python",
   "nbconvert_exporter": "python",
   "pygments_lexer": "ipython3",
   "version": "3.10.6"
  }
 },
 "nbformat": 4,
 "nbformat_minor": 5
}
