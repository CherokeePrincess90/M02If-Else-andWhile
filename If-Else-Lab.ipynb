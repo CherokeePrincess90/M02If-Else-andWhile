{
 "cells": [
  {
   "cell_type": "code",
   "execution_count": 1,
   "metadata": {},
   "outputs": [
    {
     "name": "stdout",
     "output_type": "stream",
     "text": [
      "Wes Cowan has made the Honor Roll List!\n",
      "Cynthia Bush has made the Dean's List!\n",
      "bob bob is not on Honor Roll or Dean's List.\n",
      "Tina Tina has made the Dean's List!\n",
      "Sam Sam is not on Honor Roll or Dean's List.\n"
     ]
    }
   ],
   "source": [
    "#SDEV220-51P\n",
    "#M02 If, Else and While \n",
    "#Cynthia Bush\n",
    "#October 31,2022\n",
    "#Description: a program that uses a student's GPA to determine if they will be on the Dean's List or Honor Roll\n",
    "\n",
    "#Enter student's last name\n",
    "lname = input(\"Enter Student's Last Name: \")\n",
    "\n",
    "#While statement \n",
    "while lname != \"ZZZ\":\n",
    "    fname = input(\"Enter Student's First Name: \")\n",
    "    gpa = float(input(\"Enter Student's GPA: \"))\n",
    "    \n",
    "    #if else statement to check GPA\n",
    "    if gpa >= 3.5: \n",
    "        print(fname +\" \" + lname + \" \" + \"has made the Dean's List!\")\n",
    "    else:\n",
    "        if gpa >= 3.25:\n",
    "            print(fname +\" \" + lname + \" \" + \"has made the Honor Roll List!\" )\n",
    "        if gpa < 3.25:\n",
    "             print(fname +\" \" + lname + \" \" + \"is not on Honor Roll or Dean's List.\")\n",
    "                   \n",
    "    lname = input(\"\\nEnter Student's Last Name: \")"
   ]
  }
 ],
 "metadata": {
  "kernelspec": {
   "display_name": "Python 3.10.4 64-bit",
   "language": "python",
   "name": "python3"
  },
  "language_info": {
   "codemirror_mode": {
    "name": "ipython",
    "version": 3
   },
   "file_extension": ".py",
   "mimetype": "text/x-python",
   "name": "python",
   "nbconvert_exporter": "python",
   "pygments_lexer": "ipython3",
   "version": "3.10.4"
  },
  "orig_nbformat": 4,
  "vscode": {
   "interpreter": {
    "hash": "ac14b001098f2ade99f71d6ab314561ef6236e9504f1568c1bb651c5f52310e2"
   }
  }
 },
 "nbformat": 4,
 "nbformat_minor": 2
}
